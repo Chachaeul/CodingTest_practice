{
 "cells": [
  {
   "cell_type": "markdown",
   "metadata": {},
   "source": [
    "왼쪽 또는 오른쪽으로만 빠져나갈 수 있는 원통형 파이프 안에 숫자가 쓰인 공이 일렬로 들어있습니다. 명령에 따라 공을 하나씩 뺄 때, 공이 빠져나오는 순서를 구하려고 합니다.\n",
    "\n",
    "양방향 중 한 방향으로 공을 하나씩 뺄 수 있기 때문에, 명령받은 공이 다른 공 사이에 있어 바로 빠져나오지 못하는 경우도 있습니다. 양쪽 끝에 있는 두 개의 공만 명령에 따라 바로 뺄 수 있습니다. 명령을 받았지만 바로 뺄 수 없는 공은 보류 상태가 되며, 뺄 수 있는 조건이 되면 다음 명령보다 우선하여 빠져나오게 됩니다.\n",
    "\n",
    "아래 그림은 파이프 안에 들어있는 공의 순서를 나타냅니다.\n",
    "\n",
    "\n",
    "\n",
    "ball\torder\tresult\n",
    "\n",
    "\n",
    "[1, 2, 3, 4, 5, 6]\t[6, 2, 5, 1, 4, 3]\t[6, 5, 1, 2, 4, 3]\n",
    "\n",
    "\n",
    "[11, 2, 9, 13, 24]\t[9, 2, 13, 24, 11]\t[24, 13, 9, 2, 11]\n"
   ]
  },
  {
   "cell_type": "code",
   "execution_count": 11,
   "metadata": {
    "scrolled": false
   },
   "outputs": [
    {
     "name": "stdout",
     "output_type": "stream",
     "text": [
      "order[i] 6\n",
      "result [6]\n",
      "order[i] 1\n",
      "result [6, 1]\n",
      "order[i] 2\n",
      "result [6, 1, 2]\n",
      "order[i] 3\n",
      "result [6, 1, 2, 3]\n"
     ]
    },
    {
     "data": {
      "text/plain": [
       "[6, 1, 2, 3]"
      ]
     },
     "execution_count": 11,
     "metadata": {},
     "output_type": "execute_result"
    }
   ],
   "source": [
    "ball = [1, 2, 3, 4, 5, 6]\n",
    "order = [6, 2, 5, 1, 4, 3]\n",
    "result=[]\n",
    "for i in range(len(ball)) :\n",
    "    if ball[0]==order[i] or ball[len(ball)-1] == order[0] :\n",
    "        print(\"order[i]\", order[i])\n",
    "        ball.remove(order[i])\n",
    "        result.append(order[i])\n",
    "        print(\"result\",result)\n",
    "    else : \n",
    "        \n",
    "\n",
    "result"
   ]
  },
  {
   "cell_type": "code",
   "execution_count": 112,
   "metadata": {},
   "outputs": [
    {
     "name": "stdout",
     "output_type": "stream",
     "text": [
      "i 0\n",
      "전ball 24 11\n",
      "전else,order[i] 9\n",
      "\n",
      "else1,order[i] 9\n",
      "[11, 2, 9, 13, 24]\n",
      "\n",
      "i 1\n",
      "전ball 24 11\n",
      "전else,order[i] 2\n",
      "\n",
      "else1,order[i] 2\n",
      "[11, 2, 9, 13, 24]\n",
      "\n",
      "i 2\n",
      "전ball 24 11\n",
      "전else,order[i] 13\n",
      "\n",
      "else1,order[i] 13\n",
      "[11, 2, 9, 13, 24]\n",
      "\n",
      "i 3\n",
      "전ball 24 11\n",
      "전else,order[i] 24\n",
      "\n",
      "[24]\n",
      "[11, 2, 9, 13]\n",
      "\n",
      "i 0\n",
      "전ball 13 11\n",
      "전else,order[i] 9\n",
      "\n",
      "else1,order[i] 9\n",
      "[11, 2, 9, 13]\n",
      "\n",
      "i 1\n",
      "전ball 13 11\n",
      "전else,order[i] 2\n",
      "\n",
      "else1,order[i] 2\n",
      "[11, 2, 9, 13]\n",
      "\n",
      "i 2\n",
      "전ball 13 11\n",
      "전else,order[i] 13\n",
      "\n",
      "[24, 13]\n",
      "[11, 2, 9]\n",
      "\n",
      "i 0\n",
      "전ball 9 11\n",
      "전else,order[i] 9\n",
      "\n",
      "[24, 13, 9]\n",
      "[11, 2]\n",
      "\n",
      "i 0\n",
      "전ball 2 11\n",
      "전else,order[i] 9\n",
      "\n",
      "else1,order[i] 9\n",
      "[11, 2]\n",
      "\n",
      "i 1\n",
      "전ball 2 11\n",
      "전else,order[i] 2\n",
      "\n",
      "[24, 13, 9, 2]\n",
      "[11]\n",
      "\n",
      "i 0\n",
      "전ball 11 11\n",
      "전else,order[i] 9\n",
      "\n",
      "else1,order[i] 9\n",
      "[11]\n",
      "\n",
      "i 1\n",
      "전ball 11 11\n",
      "전else,order[i] 2\n",
      "\n",
      "else1,order[i] 2\n",
      "[11]\n",
      "\n",
      "i 2\n",
      "전ball 11 11\n",
      "전else,order[i] 13\n",
      "\n",
      "else1,order[i] 13\n",
      "[11]\n",
      "\n",
      "i 3\n",
      "전ball 11 11\n",
      "전else,order[i] 24\n",
      "\n",
      "else1,order[i] 24\n",
      "[11]\n",
      "\n",
      "i 4\n",
      "전ball 11 11\n",
      "전else,order[i] 11\n",
      "\n",
      "ball 11\n",
      "order[i] 11\n",
      "result [24, 13, 9, 2, 11]\n",
      "ball []\n",
      "order [9, 2, 13, 24, 11]\n",
      "\n"
     ]
    },
    {
     "data": {
      "text/plain": [
       "[24, 13, 9, 2, 11]"
      ]
     },
     "execution_count": 112,
     "metadata": {},
     "output_type": "execute_result"
    }
   ],
   "source": [
    "from copy import copy\n",
    "ball = [11, 2, 9, 13, 24]\n",
    "order = [9, 2, 13, 24, 11]\n",
    "result=[]\n",
    "k=0\n",
    "i=0\n",
    "a=copy(ball)\n",
    "#while k < len(ball) :\n",
    "while len(result) != len(a):\n",
    "            \n",
    "            print(\"i\",i)\n",
    "            print(\"전ball\",ball[len(ball)-1],ball[0])\n",
    "            print(\"전else,order[i]\", order[i])\n",
    "            print()\n",
    "\n",
    "            if ball[0]==order[i]  :\n",
    "                print(\"ball\",ball[len(ball)-1])\n",
    "                print(\"order[i]\", order[i])\n",
    "                ball.remove(order[i])\n",
    "                result.append(order[i])\n",
    "                print(\"result\",result)\n",
    "#                 order.remove(order[i])\n",
    "                print(\"ball\",ball)\n",
    "                print(\"order\", order)\n",
    "                print()\n",
    "                i=0\n",
    "                \n",
    "            elif ball[len(ball)-1] == order[i] :    \n",
    "                ball.remove(order[i])\n",
    "                result.append(order[i])\n",
    "#                 order.remove(order[i])\n",
    "                print(result)\n",
    "                print(ball)\n",
    "                print()\n",
    "                i=0\n",
    "                \n",
    "            else : \n",
    "                print(\"else1,order[i]\", order[i])\n",
    "                print(ball)\n",
    "                print()\n",
    "                \n",
    "                i +=1                \n",
    "\n",
    "                k += 1\n",
    "                \n",
    "               \n",
    "                \n",
    "\n",
    "            \n",
    "        \n",
    "        \n",
    "result        "
   ]
  },
  {
   "cell_type": "code",
   "execution_count": null,
   "metadata": {},
   "outputs": [],
   "source": [
    "from copy import copy\n",
    "\n",
    "ball = [11, 2, 9, 13, 24]\n",
    "order = [9, 2, 13, 24, 11]\n",
    "\n",
    "result=[]\n",
    "k=0\n",
    "i=0\n",
    "a=copy(ball)\n",
    "\n",
    "while len(result) != len(a):\n",
    "            \n",
    "        print(\"i\",i)\n",
    "        print(\"전ball\",ball[len(ball)-1],ball[0])\n",
    "        print(\"전else,order[i]\", order[i])\n",
    "        print()\n",
    "\n",
    "        if ball[0]==order[i]  :\n",
    "            ball.remove(order[i])\n",
    "            result.append(order[i])\n",
    "            order.remove(order[i])\n",
    "            i=0\n",
    "                \n",
    "        elif ball[len(ball)-1] == order[i] :    \n",
    "            ball.remove(order[i])\n",
    "            result.append(order[i])\n",
    "            order.remove(order[i]) \n",
    "            i=0\n",
    "                \n",
    "        else : \n",
    "            i +=1                \n",
    "            k += 1\n",
    "        \n",
    "result        "
   ]
  },
  {
   "cell_type": "code",
   "execution_count": 111,
   "metadata": {},
   "outputs": [
    {
     "data": {
      "text/plain": [
       "[6, 5, 1, 2, 4, 3]"
      ]
     },
     "execution_count": 111,
     "metadata": {},
     "output_type": "execute_result"
    }
   ],
   "source": [
    "# 제출\n",
    "from copy import copy\n",
    "result=[]\n",
    "def solution(ball, order):\n",
    "    result=[]\n",
    "    \n",
    "    i=0\n",
    "    a=copy(ball)\n",
    "\n",
    "    while len(result) != len(a):\n",
    "\n",
    "            \n",
    "\n",
    "            if ball[0]==order[i]  :\n",
    "                ball.remove(order[i])\n",
    "                result.append(order[i])\n",
    "#                 order.remove(order[i])\n",
    "                i=0\n",
    "\n",
    "            elif ball[len(ball)-1] == order[i] :    \n",
    "                ball.remove(order[i])\n",
    "                result.append(order[i])\n",
    "#                 order.remove(order[i]) \n",
    "                i=0\n",
    "\n",
    "            else : \n",
    "                i +=1                \n",
    "                    \n",
    "    answer = result\n",
    "    return answer\n",
    "\n",
    "solution([1, 2, 3, 4, 5, 6], [6, 2, 5, 1, 4, 3])"
   ]
  },
  {
   "cell_type": "code",
   "execution_count": null,
   "metadata": {},
   "outputs": [],
   "source": []
  },
  {
   "cell_type": "markdown",
   "metadata": {},
   "source": [
    "창고에 재고로 쌓여 있는 상품들을 재포장하려고 합니다. 재포장을 완료하기 위해 추가로 구매해야 하는 상품이 몇 개인지 구하고자 합니다.\n",
    "\n",
    "창고에는 상품이 2개씩 들어있는 상자가 쌓여있습니다. 한 상자 안에 들어있는 2개의 상품이 같은 종류인 경우도 있고 아닌 경우도 있습니다. 1+1 행사를 위해 모든 상자 안에 같은 종류의 상품을 2개씩 넣고 포장하려고 합니다. 일단, 상품의 짝이 맞지 않는 상자끼리 서로 필요한 물건을 교환해서 최대한 많은 짝을 맞춰 재포장합니다. 그렇게 했음에도 짝을 맞추기에 수량이 부족한 상품은 추가 구매합니다. 단, 상자는 원래 창고에 쌓여있던 개수만큼 사용할 수 있으며, 추가로 더 가져오거나 구입하지 못합니다.\n",
    "\n",
    "아래 예시는 재포장을 진행하기 전, 각 상자에 들어있는 상품들의 종류를 나타냅니다.\n",
    "\n",
    "\n",
    "\n",
    "\n",
    "\n",
    "\n",
    "\n",
    "상자 번호\t상품 종류\n",
    "\n",
    "\n",
    "1번 상자\t1, 2\n",
    "\n",
    "\n",
    "2번 상자\t2, 1\n",
    "\n",
    "\n",
    "3번 상자\t3, 3\n",
    "\n",
    "\n",
    "4번 상자\t4, 5\n",
    "\n",
    "\n",
    "5번 상자\t5, 6\n",
    "\n",
    "\n",
    "6번 상자\t7, 8\n",
    "\n",
    "\n",
    "\n",
    "\n",
    "1번 상자에서는 2번 상품을, 2번 상자에서는 1번 상품을 서로 교환하면 두 상자의 짝 맞추기가 해결됩니다. 3번 상자는 이미 짝이 맞추어져 있기 때문에 다른 상자와 교환할 필요가 없습니다. 4번 상자는 4번 상품을 5번 상자에 들어있는 5번 상품과 교환하면 짝을 맞출 수 있습니다. 5번과 6번 상자는 남아 있는 상품들로 짝을 맞출 수 없기 때문에 상품의 추가 구매가 필요합니다. 이때, 2개의 상품만 구매하면 짝을 맞출 수 있습니다. 예를 들어, 4번과 6번 상품을 구매하면 각각 짝을 만들 수 있습니다.\n",
    "\n",
    "각 상자에 들어있는 상품의 종류를 나타내는 2차원 배열 boxes가 매개변수로 주어집니다. 상품의 짝을 맞춰 재포장을 완료하기 위해 추가로 구매해야 하는 상품의 최소 개수를 return 하도록 solution 함수를 작성해주세요.\n",
    "\n",
    "\n",
    "\n",
    "\n",
    "\n",
    "\n",
    "\n",
    "boxes\tresult\n",
    "\n",
    "\n",
    "[[1, 2], [2, 1], [3, 3], [4, 5], [5, 6], [7, 8]]\t2\n",
    "\n",
    "\n",
    "[[1, 2], [3, 4], [5, 6]]\t3\n",
    "\n",
    "\n",
    "[[1, 2], [2, 3], [3, 1]]\t0"
   ]
  },
  {
   "cell_type": "code",
   "execution_count": 103,
   "metadata": {},
   "outputs": [
    {
     "data": {
      "text/plain": [
       "2"
      ]
     },
     "execution_count": 103,
     "metadata": {},
     "output_type": "execute_result"
    }
   ],
   "source": [
    "boxes = [[1, 2], [2, 1], [3, 3], [4, 5], [5, 6], [7, 8]]\n",
    "new = [] \n",
    "for i in range(len(boxes)) :\n",
    "    new.append(boxes[i][0])\n",
    "    new.append(boxes[i][1])\n",
    "new_set = list(set(new))\n",
    "\n",
    "a=[]\n",
    "for k in range(len(new_set)) :\n",
    "    if new.count(new_set[k]) != 2 :\n",
    "            a.append(new_set[k])\n",
    "            result = int(len(a)/2)\n",
    "    else :\n",
    "        result = 0\n",
    "                        \n",
    "result     "
   ]
  },
  {
   "cell_type": "code",
   "execution_count": 121,
   "metadata": {},
   "outputs": [
    {
     "data": {
      "text/plain": [
       "([1, 2, 3, 4, 5, 6], 3)"
      ]
     },
     "execution_count": 121,
     "metadata": {},
     "output_type": "execute_result"
    }
   ],
   "source": [
    "# 제출\n",
    "def solution(boxes):\n",
    "    new = [] \n",
    "    for i in range(len(boxes)) :\n",
    "        new.append(boxes[i][0])\n",
    "        new.append(boxes[i][1])\n",
    "    new_set = list(set(new))\n",
    "\n",
    "    a=[]\n",
    "    for k in range(len(new_set)) :\n",
    "        if new.count(new_set[k]) % 2 != 0 :\n",
    "                a.append(new_set[k])\n",
    "                answer = int(len(a)/2)\n",
    "        else :\n",
    "            answer = 0\n",
    "\n",
    "    return a, answer\n",
    "solution([[1, 2], [3, 4], [5, 6]])\n",
    "# solution([[1, 2], [2, 1], [3, 3],[4,5],[4,6],[4,7]])"
   ]
  },
  {
   "cell_type": "code",
   "execution_count": null,
   "metadata": {},
   "outputs": [],
   "source": []
  },
  {
   "cell_type": "markdown",
   "metadata": {},
   "source": [
    "덧셈 기호 '+'를 사용해 어떤 수를 한 자리 수로 만들고자 합니다. 수를 하나의 문자열로 생각했을 때, 숫자와 숫자 사이 중 한 곳에 덧셈 기호를 삽입할 수 있습니다. 덧셈 기호가 삽입되면 원래의 수는 덧셈 기호를 사이에 둔, 두 수의 합을 나타내는 식이 됩니다. 이 식을 계산하여 이전의 수보다 작은 새로운 수를 만들 수 있습니다. 덧셈 기호를 삽입할 수 없는 한 자릿수가 나올 때까지 이 작업을 반복합니다.\n",
    "\n",
    "아래 예시는 73425를 한 자릿수로 만드는 방법 2가지를 나타냅니다. →는 덧셈 기호의 사용을 나타냅\n",
    "\n",
    "니다.\n",
    "\n",
    "방법 1.\n",
    "(73425) → (7 + 3425 = 3432) → (3 + 432 = 435) → (4 + 35 = 39) → (3 + 9 = 12) → (1 + 2 = 3)\n",
    "\n",
    "방법 2.\n",
    "(73425) → (73 + 425 = 498) → (49 + 8 = 57) → (5 + 7 = 12) → (1 + 2 = 3)\n",
    "\n",
    "\n",
    "\n",
    "위의 2가지 방법 중 두 번째가 덧셈 기호 사용 횟수를 최소로 하여 한 자릿수를 만드는 방법입니다. 4회 만에 한 자릿수를 만드는 다른 방법도 있지만, 다른 어떤 방법으로도 4회보다 적은 횟수로 한 자릿수를 만들 수 없습니다. 그리고 연산 과정이 끝난 후 만들어진 한 자릿수는 3입니다.\n",
    "\n",
    "10억 이하의 자연수 n이 매개변수로 주어집니다. 덧셈 기호를 가장 적게 사용해 n을 한 자릿수로 만들 때, 덧셈 기호 사용 횟수 a와 연산 과정 끝에 만들어진 한 자릿수 b를 배열에 담아 [a, b] 형식으로 return 하도록 solution함수를 작성해주세요.\n",
    "\n",
    "\n",
    "\n",
    "n\tresult\n",
    "\n",
    "\n",
    "73425\t[4, 3]\n",
    "\n",
    "\n",
    "10007\t[4, 8]\n",
    "\n",
    "\n",
    "9\t[0, 9]\n",
    "\n",
    "10203    [3,6]"
   ]
  },
  {
   "cell_type": "code",
   "execution_count": null,
   "metadata": {},
   "outputs": [],
   "source": []
  },
  {
   "cell_type": "code",
   "execution_count": 149,
   "metadata": {},
   "outputs": [
    {
     "name": "stdout",
     "output_type": "stream",
     "text": [
      "73425\n"
     ]
    },
    {
     "data": {
      "text/plain": [
       "'3432'"
      ]
     },
     "execution_count": 149,
     "metadata": {},
     "output_type": "execute_result"
    }
   ],
   "source": [
    "n = 73425\n",
    "n = str(n)\n",
    "print(n)\n",
    "len(n)\n",
    "\n",
    "str ( int(n[:1])+ int(n[1:]) )"
   ]
  },
  {
   "cell_type": "code",
   "execution_count": 210,
   "metadata": {},
   "outputs": [
    {
     "name": "stdout",
     "output_type": "stream",
     "text": [
      "73425\n",
      "73425\n",
      "True\n",
      "i 1\n",
      "num 73425\n",
      "첫\n",
      "\n",
      "i 1\n",
      "k 1\n",
      "num :  73425\n",
      "7 3425\n",
      "one 3432\n",
      "num 3432\n",
      "\n",
      "i 1\n",
      "k 2\n",
      "num :  3432\n",
      "3 432\n",
      "one 66\n",
      "num 66\n",
      "\n",
      "i 1\n",
      "k 3\n",
      "num :  66\n",
      "6 6\n"
     ]
    },
    {
     "ename": "ValueError",
     "evalue": "invalid literal for int() with base 10: ''",
     "output_type": "error",
     "traceback": [
      "\u001b[1;31m---------------------------------------------------------------------------\u001b[0m",
      "\u001b[1;31mValueError\u001b[0m                                Traceback (most recent call last)",
      "\u001b[1;32m<ipython-input-210-bf34c46e4c79>\u001b[0m in \u001b[0;36m<module>\u001b[1;34m\u001b[0m\n\u001b[0;32m     30\u001b[0m \u001b[1;33m\u001b[0m\u001b[0m\n\u001b[0;32m     31\u001b[0m \u001b[1;33m\u001b[0m\u001b[0m\n\u001b[1;32m---> 32\u001b[1;33m             \u001b[0mone\u001b[0m \u001b[1;33m=\u001b[0m \u001b[0mint\u001b[0m\u001b[1;33m(\u001b[0m\u001b[0mnum\u001b[0m\u001b[1;33m[\u001b[0m\u001b[1;33m:\u001b[0m\u001b[0mk\u001b[0m\u001b[1;33m]\u001b[0m\u001b[1;33m)\u001b[0m\u001b[1;33m+\u001b[0m \u001b[0mint\u001b[0m\u001b[1;33m(\u001b[0m\u001b[0mnum\u001b[0m\u001b[1;33m[\u001b[0m\u001b[0mk\u001b[0m\u001b[1;33m:\u001b[0m\u001b[1;33m]\u001b[0m\u001b[1;33m)\u001b[0m\u001b[1;33m\u001b[0m\u001b[1;33m\u001b[0m\u001b[0m\n\u001b[0m\u001b[0;32m     33\u001b[0m             \u001b[0mone\u001b[0m \u001b[1;33m=\u001b[0m \u001b[0mstr\u001b[0m\u001b[1;33m(\u001b[0m\u001b[0mone\u001b[0m\u001b[1;33m)\u001b[0m\u001b[1;33m\u001b[0m\u001b[1;33m\u001b[0m\u001b[0m\n\u001b[0;32m     34\u001b[0m             \u001b[0mnum\u001b[0m \u001b[1;33m=\u001b[0m \u001b[0mstr\u001b[0m\u001b[1;33m(\u001b[0m\u001b[0mone\u001b[0m\u001b[1;33m)\u001b[0m\u001b[1;33m\u001b[0m\u001b[1;33m\u001b[0m\u001b[0m\n",
      "\u001b[1;31mValueError\u001b[0m: invalid literal for int() with base 10: ''"
     ]
    }
   ],
   "source": [
    "# 노을 코드\n",
    "\n",
    "n = 73425\n",
    "num = str(n)\n",
    "one = copy(num)\n",
    "count =0\n",
    "a=[]\n",
    "print(num)\n",
    "print(one)\n",
    "print(one is num)\n",
    "while len(one) !=1 :\n",
    "    \n",
    "    for i in range(1,len(num)) :\n",
    "        print(\"i\",i)\n",
    "        print(\"num\", num)\n",
    "#         one = str(one)\n",
    "#         print(\"one\",one)\n",
    "        print(\"첫\\n\")\n",
    "        for k in range(1,len(num)) :\n",
    "#             print(\"one\",one)\n",
    "\n",
    "\n",
    "\n",
    "            print(\"i\",i)\n",
    "            print(\"k\",k)\n",
    "            \n",
    "            print(\"num : \", num)\n",
    "            \n",
    "            print(num[:i],num[i:])\n",
    "            \n",
    "            \n",
    "            one = int(num[:k])+ int(num[k:]) \n",
    "            one = str(one)\n",
    "            num = str(one)\n",
    "            \n",
    "            \n",
    "            print(\"one\",one)\n",
    "            print(\"num\", num)\n",
    "            print()\n",
    "            \n",
    "        n = 73425\n",
    "        num = str(n)\n",
    "        \n",
    "        if len(num) ==1 : \n",
    "            count +=1\n",
    "            a.append(count)\n",
    "            \n",
    "a"
   ]
  },
  {
   "cell_type": "code",
   "execution_count": 141,
   "metadata": {
    "scrolled": true
   },
   "outputs": [
    {
     "data": {
      "text/plain": [
       "2"
      ]
     },
     "execution_count": 141,
     "metadata": {},
     "output_type": "execute_result"
    }
   ],
   "source": [
    "one = 11\n",
    "one =str(one)\n",
    "len(one)"
   ]
  },
  {
   "cell_type": "code",
   "execution_count": null,
   "metadata": {},
   "outputs": [],
   "source": []
  },
  {
   "cell_type": "code",
   "execution_count": null,
   "metadata": {},
   "outputs": [],
   "source": []
  }
 ],
 "metadata": {
  "kernelspec": {
   "display_name": "Python 3",
   "language": "python",
   "name": "python3"
  },
  "language_info": {
   "codemirror_mode": {
    "name": "ipython",
    "version": 3
   },
   "file_extension": ".py",
   "mimetype": "text/x-python",
   "name": "python",
   "nbconvert_exporter": "python",
   "pygments_lexer": "ipython3",
   "version": "3.7.6"
  }
 },
 "nbformat": 4,
 "nbformat_minor": 4
}
