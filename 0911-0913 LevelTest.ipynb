{
 "cells": [
  {
   "cell_type": "markdown",
   "metadata": {},
   "source": [
    "## LEVEL1"
   ]
  },
  {
   "cell_type": "markdown",
   "metadata": {},
   "source": [
    "#### 정수 n을 입력받아 n의 약수를 모두 더한 값을 리턴하는 함수, solution을 완성해주세요."
   ]
  },
  {
   "cell_type": "code",
   "execution_count": 4,
   "metadata": {},
   "outputs": [
    {
     "data": {
      "text/plain": [
       "6"
      ]
     },
     "execution_count": 4,
     "metadata": {},
     "output_type": "execute_result"
    }
   ],
   "source": [
    "yak=[]\n",
    "n=5\n",
    "for i in range(n):\n",
    "    if n%(i+1)==0 :\n",
    "        yak.append(i+1)\n",
    "        \n",
    "answer=sum(yak)        \n",
    "answer"
   ]
  },
  {
   "cell_type": "code",
   "execution_count": null,
   "metadata": {},
   "outputs": [],
   "source": []
  },
  {
   "cell_type": "markdown",
   "metadata": {},
   "source": [
    "#### 임의의 양의 정수 n에 대해, n이 어떤 양의 정수 x의 제곱인지 아닌지 판단하려 합니다. n이 양의 정수 x의 제곱이라면 x+1의 제곱을 리턴하고, n이 양의 정수 x의 제곱이 아니라면 -1을 리턴하는 함수를 완성하세요."
   ]
  },
  {
   "cell_type": "code",
   "execution_count": 6,
   "metadata": {},
   "outputs": [],
   "source": [
    "import math"
   ]
  },
  {
   "cell_type": "code",
   "execution_count": 15,
   "metadata": {},
   "outputs": [
    {
     "data": {
      "text/plain": [
       "0.0"
      ]
     },
     "execution_count": 15,
     "metadata": {},
     "output_type": "execute_result"
    }
   ],
   "source": [
    "((math.sqrt(4)) * 10) %10"
   ]
  },
  {
   "cell_type": "code",
   "execution_count": 16,
   "metadata": {
    "scrolled": true
   },
   "outputs": [
    {
     "data": {
      "text/plain": [
       "2.360679774997898"
      ]
     },
     "execution_count": 16,
     "metadata": {},
     "output_type": "execute_result"
    }
   ],
   "source": [
    "((math.sqrt(5)) * 10) %10"
   ]
  },
  {
   "cell_type": "code",
   "execution_count": 18,
   "metadata": {},
   "outputs": [
    {
     "data": {
      "text/plain": [
       "4.0"
      ]
     },
     "execution_count": 18,
     "metadata": {},
     "output_type": "execute_result"
    }
   ],
   "source": [
    "(math.sqrt(4))**2"
   ]
  },
  {
   "cell_type": "code",
   "execution_count": 22,
   "metadata": {},
   "outputs": [
    {
     "data": {
      "text/plain": [
       "-1"
      ]
     },
     "execution_count": 22,
     "metadata": {},
     "output_type": "execute_result"
    }
   ],
   "source": [
    "n=3\n",
    "if (math.sqrt(n)  * 10) % 10 == 0 :\n",
    "    answer = int( (math.sqrt(n) + 1 )**2 )\n",
    "else :  \n",
    "    answer = -1\n",
    "answer    "
   ]
  },
  {
   "cell_type": "code",
   "execution_count": null,
   "metadata": {},
   "outputs": [],
   "source": []
  },
  {
   "cell_type": "markdown",
   "metadata": {},
   "source": [
    "## LEVEL2"
   ]
  },
  {
   "cell_type": "markdown",
   "metadata": {},
   "source": [
    "#### 초 단위로 기록된 주식가격이 담긴 배열 prices가 매개변수로 주어질 때, 가격이 떨어지지 않은 기간은 몇 초인지를 return 하도록 solution 함수를 완성하세요."
   ]
  },
  {
   "cell_type": "code",
   "execution_count": 157,
   "metadata": {},
   "outputs": [
    {
     "data": {
      "text/plain": [
       "[3, 1, 1, 2, 1, 0]"
      ]
     },
     "execution_count": 157,
     "metadata": {},
     "output_type": "execute_result"
    }
   ],
   "source": [
    "prices=[4, 6, 4, 1, 5, 1]\n",
    "answer=[]\n",
    "for i in range(len(prices)):\n",
    "    count=1\n",
    "    if i != len(prices)-1:  \n",
    "        if prices[i] > prices[i+1] :\n",
    "            answer.append(1) \n",
    "        else:\n",
    "            for j in range(i+1, len(prices)-1):\n",
    "                if prices[i] <= prices[j] :\n",
    "                    count = count+1 \n",
    "                else   : \n",
    "                    break\n",
    "            answer.append(count)                     \n",
    "    else :\n",
    "        count=0\n",
    "        answer.append(count)       \n",
    "answer         \n",
    "    \n",
    "# 고생했음 ㅠㅠ "
   ]
  },
  {
   "cell_type": "code",
   "execution_count": null,
   "metadata": {},
   "outputs": [],
   "source": []
  },
  {
   "cell_type": "markdown",
   "metadata": {},
   "source": [
    "#### 문자열 s에는 공백으로 구분된 숫자들이 저장되어 있습니다. str에 나타나는 숫자 중 최소값과 최대값을 찾아 이를 (최소값) (최대값)형태의 문자열을 반환하는 함수, solution을 완성하세요. 예를들어 s가 1 2 3 4라면 1 4를 리턴하고, -1 -2 -3 -4라면 -4 -1을 리턴하면 됩니다."
   ]
  },
  {
   "cell_type": "code",
   "execution_count": 1,
   "metadata": {},
   "outputs": [
    {
     "data": {
      "text/plain": [
       "['1', '2', '3', '4']"
      ]
     },
     "execution_count": 1,
     "metadata": {},
     "output_type": "execute_result"
    }
   ],
   "source": [
    "s= \"1 2 3 4\"\n",
    "a= s.split()\n",
    "a"
   ]
  },
  {
   "cell_type": "code",
   "execution_count": 4,
   "metadata": {},
   "outputs": [
    {
     "data": {
      "text/plain": [
       "int"
      ]
     },
     "execution_count": 4,
     "metadata": {},
     "output_type": "execute_result"
    }
   ],
   "source": [
    "type(int(a[0]))"
   ]
  },
  {
   "cell_type": "code",
   "execution_count": 31,
   "metadata": {},
   "outputs": [
    {
     "data": {
      "text/plain": [
       "[-2, -3, -4, -1]"
      ]
     },
     "execution_count": 31,
     "metadata": {},
     "output_type": "execute_result"
    }
   ],
   "source": [
    "s= \"-2 -3 -4 -1\"\n",
    "a= s.split()\n",
    "b=list(map(int,a))\n",
    "b"
   ]
  },
  {
   "cell_type": "code",
   "execution_count": 33,
   "metadata": {},
   "outputs": [
    {
     "data": {
      "text/plain": [
       "-4"
      ]
     },
     "execution_count": 33,
     "metadata": {},
     "output_type": "execute_result"
    }
   ],
   "source": [
    "min(b)"
   ]
  },
  {
   "cell_type": "code",
   "execution_count": 41,
   "metadata": {},
   "outputs": [
    {
     "data": {
      "text/plain": [
       "'-4 -1'"
      ]
     },
     "execution_count": 41,
     "metadata": {},
     "output_type": "execute_result"
    }
   ],
   "source": [
    "str(min(b)) + ' ' + str(max(b))"
   ]
  },
  {
   "cell_type": "code",
   "execution_count": null,
   "metadata": {},
   "outputs": [],
   "source": []
  },
  {
   "cell_type": "markdown",
   "metadata": {},
   "source": [
    "#### n개의 음이 아닌 정수가 있습니다. 이 수를 적절히 더하거나 빼서 타겟 넘버를 만들려고 합니다. 예를 들어 [1, 1, 1, 1, 1]로 숫자 3을 만들려면 다음 다섯 방법을 쓸 수 있습니다.\n",
    "\n",
    "#### 사용할 수 있는 숫자가 담긴 배열 numbers, 타겟 넘버 target이 매개변수로 주어질 때 숫자를 적절히 더하고 빼서 타겟 넘버를 만드는 방법의 수를 return 하도록 solution 함수를 작성해주세요.\n"
   ]
  },
  {
   "cell_type": "code",
   "execution_count": 42,
   "metadata": {
    "scrolled": true
   },
   "outputs": [
    {
     "data": {
      "text/plain": [
       "'\\n-1+1+1+1+1 = 3\\n+1-1+1+1+1 = 3\\n+1+1-1+1+1 = 3\\n+1+1+1-1+1 = 3\\n+1+1+1+1-1 = 3\\n'"
      ]
     },
     "execution_count": 42,
     "metadata": {},
     "output_type": "execute_result"
    }
   ],
   "source": [
    "\"\"\"\n",
    "-1+1+1+1+1 = 3\n",
    "+1-1+1+1+1 = 3\n",
    "+1+1-1+1+1 = 3\n",
    "+1+1+1-1+1 = 3\n",
    "+1+1+1+1-1 = 3\n",
    "\"\"\""
   ]
  },
  {
   "cell_type": "code",
   "execution_count": 260,
   "metadata": {
    "scrolled": false
   },
   "outputs": [
    {
     "data": {
      "text/plain": [
       "5"
      ]
     },
     "execution_count": 260,
     "metadata": {},
     "output_type": "execute_result"
    }
   ],
   "source": [
    "from itertools import combinations, permutations\n",
    "from copy import copy\n",
    "def solution(numbers, target):\n",
    "    r = numbers\n",
    "    b=copy(numbers)\n",
    "    answer = 0\n",
    "    if sum(numbers) == target or -sum(numbers) == target :\n",
    "        answer = 1\n",
    "    else :\n",
    "        for i in range(1,len(b)):\n",
    "            for j in combinations(b, i):\n",
    "#                 print(\"numbers\",numbers)\n",
    "#                 print(\"r\",r)\n",
    "#                 print(\"b\",b)\n",
    "#                 print(\"j\",j)\n",
    "                \n",
    "                for g in j:\n",
    "                   r.append(-g)\n",
    "                   r.remove(g)\n",
    "#                 print(\"r\",r)\n",
    "#                 print(sum(r))\n",
    "#                 print()\n",
    "                if sum(r) == target :\n",
    "                    answer += 1\n",
    "                r = copy(b)\n",
    "                \n",
    "    return answer\n",
    "\n",
    "solution([1, 1, 1,1,1], 3)\n",
    "\n",
    "#copy를 깨우치는 데 5시간 걸림; 리스트를 따로 저장해두고 싶을 때는 copy 모듈을 쓰자!"
   ]
  },
  {
   "cell_type": "code",
   "execution_count": 269,
   "metadata": {},
   "outputs": [
    {
     "name": "stdout",
     "output_type": "stream",
     "text": [
      "True\n",
      "a [1, 2, 3]\n",
      "b [1, 2, 3]\n"
     ]
    }
   ],
   "source": [
    "r=[1,2]\n",
    "a= r\n",
    "b= r\n",
    "print(a is b) # a와 b가 한 몸\n",
    "\n",
    "a.append(3)\n",
    "print(\"a\",a)\n",
    "print(\"b\",b) # a와 b가 한 몸이기 때문에 a에 append -> b도 함께 "
   ]
  },
  {
   "cell_type": "code",
   "execution_count": 270,
   "metadata": {
    "scrolled": false
   },
   "outputs": [
    {
     "name": "stdout",
     "output_type": "stream",
     "text": [
      "False\n",
      "a [1, 2, 3]\n",
      "b [1, 2]\n"
     ]
    }
   ],
   "source": [
    "# copy를 하면 a 와 b는 다른 객체!\n",
    "from copy import copy\n",
    "r=[1,2]\n",
    "a = r\n",
    "b = copy(r)\n",
    "print(a is b) # a와 b가 다른 몸\n",
    "\n",
    "a.append(3)\n",
    "print(\"a\",a)\n",
    "print(\"b\",b) # a와 b가 다른 몸이기 때문에 a에 append -> b도 함께 x"
   ]
  },
  {
   "cell_type": "code",
   "execution_count": null,
   "metadata": {},
   "outputs": [],
   "source": []
  },
  {
   "cell_type": "markdown",
   "metadata": {},
   "source": [
    "####  v는 세 점의 좌표가 들어있는 2차원 배열입니다. v의 각 원소는 점의 좌표를 나타내며, 좌표는 [x축 좌표, y축 좌표] 순으로 주어집니다. 좌표값은 1 이상 10억 이하의 자연수입니다. 직사각형을 만드는 데 필요한 나머지 한 점의 좌표를 [x축 좌표, y축 좌표] 순으로 담아 return 해주세요.\n",
    "\n",
    "\n",
    "입출력 예\n",
    "\n",
    "\n",
    "v           result\n",
    "\n",
    "\n",
    "[[1, 4], [3, 4], [3, 10]]    \t[1, 10]\n",
    "\n",
    "\n",
    "[[1, 1], [2, 2], [1, 2]]     \t[2, 1]\n",
    "\n"
   ]
  },
  {
   "cell_type": "code",
   "execution_count": null,
   "metadata": {},
   "outputs": [],
   "source": []
  },
  {
   "cell_type": "code",
   "execution_count": 273,
   "metadata": {},
   "outputs": [
    {
     "data": {
      "text/plain": [
       "1"
      ]
     },
     "execution_count": 273,
     "metadata": {},
     "output_type": "execute_result"
    }
   ],
   "source": [
    "v = [[1, 4], [3, 4], [3, 10]] \n",
    "type(v)\n",
    "v[0][0]"
   ]
  },
  {
   "cell_type": "code",
   "execution_count": 281,
   "metadata": {},
   "outputs": [
    {
     "data": {
      "text/plain": [
       "[1, 10]"
      ]
     },
     "execution_count": 281,
     "metadata": {},
     "output_type": "execute_result"
    }
   ],
   "source": [
    "x=[]\n",
    "y=[]\n",
    "for i in range(3) :\n",
    "    x.append(v[i][0])\n",
    "    y.append(v[i][1])\n",
    "    \n",
    "if x[0] == x[1] :\n",
    "      new_x=x[2]\n",
    "        \n",
    "elif x[1] == x[2] : \n",
    "     new_x=x[0]\n",
    "elif x[0] == x[2] : \n",
    "     new_x=x[1]\n",
    "        \n",
    "        \n",
    "if y[0] == y[1] :\n",
    "      new_y=y[2]\n",
    "        \n",
    "elif y[1] == y[2] : \n",
    "     new_y=y[0]\n",
    "elif y[0] == y[2] : \n",
    "     new_y=y[1]        \n",
    "        \n",
    "[new_x,new_y]\n"
   ]
  },
  {
   "cell_type": "code",
   "execution_count": 279,
   "metadata": {},
   "outputs": [
    {
     "data": {
      "text/plain": [
       "1"
      ]
     },
     "execution_count": 279,
     "metadata": {},
     "output_type": "execute_result"
    }
   ],
   "source": [
    "\n",
    "if x[0] == x[1] :\n",
    "      new_x=x[2]\n",
    "        \n",
    "elif x[1] == x[2] : \n",
    "     new_x=x[0]\n",
    "elif x[0] == x[2] : \n",
    "     new_x=x[1]\n",
    "        \n",
    "new_x        "
   ]
  },
  {
   "cell_type": "code",
   "execution_count": null,
   "metadata": {},
   "outputs": [],
   "source": [
    "## 제출 정리\n",
    "def solution(v):\n",
    "    x=[]\n",
    "    y=[]\n",
    "    for i in range(3) :\n",
    "        x.append(v[i][0])\n",
    "        y.append(v[i][1])\n",
    "\n",
    "    if x[0] == x[1] :\n",
    "          new_x=x[2]        \n",
    "    elif x[1] == x[2] : \n",
    "         new_x=x[0]\n",
    "    elif x[0] == x[2] : \n",
    "         new_x=x[1]\n",
    "\n",
    "    if y[0] == y[1] :\n",
    "          new_y=y[2]        \n",
    "    elif y[1] == y[2] : \n",
    "         new_y=y[0]\n",
    "    elif y[0] == y[2] : \n",
    "         new_y=y[1]        \n",
    "\n",
    "    answer = [new_x,new_y]\n",
    "    return answer"
   ]
  },
  {
   "cell_type": "code",
   "execution_count": null,
   "metadata": {},
   "outputs": [],
   "source": []
  },
  {
   "cell_type": "markdown",
   "metadata": {},
   "source": [
    "### 이상준 그 놈이  문제다 : 두 수를 입력받아 최소공배수와 최대공약수 내봐라 ok 쉽지,\n",
    "\n",
    "예시\n",
    "\n",
    "a = 8 , b = 4\n",
    "\n",
    "answer = [8,4]"
   ]
  },
  {
   "cell_type": "code",
   "execution_count": 295,
   "metadata": {},
   "outputs": [
    {
     "data": {
      "text/plain": [
       "[2, 30]"
      ]
     },
     "execution_count": 295,
     "metadata": {},
     "output_type": "execute_result"
    }
   ],
   "source": [
    "def lsj(a,b) : \n",
    "    yak_a=[]\n",
    "    yak_b=[]\n",
    "    for i in range(1,a+1) : \n",
    "        if a % i == 0 :\n",
    "            yak_a.append(i)\n",
    "    for i in range(1,b+1) : \n",
    "        if b % i == 0 :\n",
    "            yak_b.append(i)        \n",
    "\n",
    "\n",
    "    max_yak = max(list(set(yak_b).intersection(yak_a)))\n",
    "\n",
    "\n",
    "    min_bae = int( (a*b) / max_yak )\n",
    "    \n",
    "    \n",
    "    answer=[max_yak, min_bae]\n",
    "    \n",
    "    return answer\n",
    "\n",
    "lsj(6,10)\n",
    "\n",
    "# ㅎ 이정도는 ㅎ 신한은행 가자!"
   ]
  },
  {
   "cell_type": "code",
   "execution_count": null,
   "metadata": {},
   "outputs": [],
   "source": []
  },
  {
   "cell_type": "code",
   "execution_count": null,
   "metadata": {},
   "outputs": [],
   "source": []
  },
  {
   "cell_type": "code",
   "execution_count": null,
   "metadata": {},
   "outputs": [],
   "source": []
  },
  {
   "cell_type": "code",
   "execution_count": null,
   "metadata": {},
   "outputs": [],
   "source": []
  },
  {
   "cell_type": "code",
   "execution_count": null,
   "metadata": {},
   "outputs": [],
   "source": []
  }
 ],
 "metadata": {
  "kernelspec": {
   "display_name": "Python 3",
   "language": "python",
   "name": "python3"
  },
  "language_info": {
   "codemirror_mode": {
    "name": "ipython",
    "version": 3
   },
   "file_extension": ".py",
   "mimetype": "text/x-python",
   "name": "python",
   "nbconvert_exporter": "python",
   "pygments_lexer": "ipython3",
   "version": "3.7.6"
  }
 },
 "nbformat": 4,
 "nbformat_minor": 4
}
