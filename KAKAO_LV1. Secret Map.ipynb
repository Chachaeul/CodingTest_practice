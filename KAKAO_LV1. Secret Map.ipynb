{
 "cells": [
  {
   "cell_type": "markdown",
   "metadata": {},
   "source": [
    "네오는 평소 프로도가 비상금을 숨겨놓는 장소를 알려줄 비밀지도를 손에 넣었다. 그런데 이 비밀지도는 숫자로 암호화되어 있어 위치를 확인하기 위해서는 암호를 해독해야 한다. 다행히 지도 암호를 해독할 방법을 적어놓은 메모도 함께 발견했다.\n",
    "\n",
    "지도는 한 변의 길이가 n인 정사각형 배열 형태로, 각 칸은 공백(\" ) 또는벽(#\") 두 종류로 이루어져 있다.\n",
    "전체 지도는 두 장의 지도를 겹쳐서 얻을 수 있다. 각각 지도 1과 지도 2라고 하자. 지도 1 또는 지도 2 중 어느 하나라도 벽인 부분은 전체 지도에서도 벽이다. 지도 1과 지도 2에서 모두 공백인 부분은 전체 지도에서도 공백이다.\n",
    "지도 1과 지도 2는 각각 정수 배열로 암호화되어 있다.\n",
    "암호화된 배열은 지도의 각 가로줄에서 벽 부분을 1, 공백 부분을 0으로 부호화했을 때 얻어지는 이진수에 해당하는 값의 배열이다.\n",
    "\n",
    "입력으로 지도의 한 변 크기 n 과 2개의 정수 배열 arr1, arr2가 들어온다.\n",
    "\n",
    "1 ≦ n ≦ 16\n",
    "arr1, arr2는 길이 n인 정수 배열로 주어진다.\n",
    "정수 배열의 각 원소 x를 이진수로 변환했을 때의 길이는 n 이하이다. 즉, 0 ≦ x ≦ 2n - 1을 만족한다.\n",
    "\n",
    "원래의 비밀지도를 해독하여 '#', 공백으로 구성된 문자열 배열로 출력하라.\n",
    "\n",
    "\n",
    "### 입출력 예제\n",
    "\n",
    "\n",
    "매개변수\t값\n",
    "\n",
    "\n",
    "n\t5\n",
    "\n",
    "\n",
    "arr1\t[9, 20, 28, 18, 11]\n",
    "\n",
    "\n",
    "arr2\t[30, 1, 21, 17, 28]\n",
    "\n",
    "\n",
    "출력\t[\"#####\",\"# # #\", \"### #\", \"# ##\", \"#####\"]\n",
    "\n",
    "\n",
    "매개변수\t값\n",
    "\n",
    "\n",
    "n\t6\n",
    "\n",
    "\n",
    "arr1\t[46, 33, 33 ,22, 31, 50]\n",
    "\n",
    "\n",
    "arr2\t[27 ,56, 19, 14, 14, 10]\n",
    "\n",
    "\n",
    "출력\t[\"######\", \"### #\", \"## ##\", \" #### \", \" #####\", \"### # \"]\n",
    "\n",
    "\n"
   ]
  },
  {
   "cell_type": "code",
   "execution_count": 5,
   "metadata": {},
   "outputs": [
    {
     "data": {
      "text/plain": [
       "'0b10100'"
      ]
     },
     "execution_count": 5,
     "metadata": {},
     "output_type": "execute_result"
    }
   ],
   "source": [
    "n =5\n",
    "arr1 = [9, 20, 28, 18, 11]\n",
    "arr2 = [30, 1, 21, 17, 28]\n",
    "\n",
    "bin(arr1[1])"
   ]
  },
  {
   "cell_type": "code",
   "execution_count": 85,
   "metadata": {
    "scrolled": true
   },
   "outputs": [
    {
     "name": "stdout",
     "output_type": "stream",
     "text": [
      "['101110', '100001', '100001', '010110', '011111', '110010']\n",
      "['011011', '111000', '010011', '001110', '001110', '001010']\n",
      "['112121', '211001', '110012', '011220', '012221', '111020']\n"
     ]
    },
    {
     "data": {
      "text/plain": [
       "['######', '###  #', '##  ##', ' #### ', ' #####', '### # ']"
      ]
     },
     "execution_count": 85,
     "metadata": {},
     "output_type": "execute_result"
    }
   ],
   "source": [
    "n =6\n",
    "arr1 = [46, 33, 33 ,22, 31, 50]\n",
    "arr2 = [27 ,56, 19, 14, 14, 10]\n",
    "\n",
    "arr_12 = []\n",
    "arr_22 = []\n",
    "result =[] \n",
    "sum1=[]\n",
    "\n",
    "for i in range(n):\n",
    "    if len(bin(arr1[i])[2:])==n  :\n",
    "        arr_12.append(bin(arr1[i])[2:])\n",
    "    else: \n",
    "        arr_12.append(bin(arr1[i])[2:].zfill(n))\n",
    "          \n",
    "for r in range(n):                \n",
    "    if len(bin(arr2[r])[2:]) ==n :  \n",
    "        arr_22.append(bin(arr2[r])[2:])                         \n",
    "    else:\n",
    "        arr_22.append(bin(arr2[r])[2:].zfill(n)) \n",
    "        \n",
    "for j in range(n) :\n",
    "    sum_ = str(int(arr_12[j])+ int(arr_22[j]))\n",
    "    sum1.append(sum_.zfill(n))\n",
    "\n",
    "for k in range(n) :       \n",
    "    str1 = sum1[k].replace(\"0\",\" \").replace(\"1\",\"#\").replace(\"2\",\"#\")\n",
    "    result.append(str1)\n",
    "\n",
    "result"
   ]
  },
  {
   "cell_type": "code",
   "execution_count": null,
   "metadata": {},
   "outputs": [],
   "source": [
    "## 제출\n",
    "\n",
    "arr_12 = []\n",
    "arr_22 = []\n",
    "answer =[] \n",
    "sum1=[]\n",
    "\n",
    "def solution(n, arr1, arr2):\n",
    "    for i in range(n):\n",
    "        if len(bin(arr1[i])[2:])==n  :\n",
    "            arr_12.append(bin(arr1[i])[2:])\n",
    "        else: \n",
    "            arr_12.append(bin(arr1[i])[2:].zfill(n))\n",
    "\n",
    "    for r in range(n):                \n",
    "        if len(bin(arr2[r])[2:]) ==n :  \n",
    "            arr_22.append(bin(arr2[r])[2:])                         \n",
    "        else:\n",
    "            arr_22.append(bin(arr2[r])[2:].zfill(n)) \n",
    "\n",
    "    for j in range(n) :\n",
    "        sum_ = str(int(arr_12[j])+ int(arr_22[j]))\n",
    "        sum1.append(sum_.zfill(n))\n",
    "\n",
    "    for k in range(n) :       \n",
    "        str1 = sum1[k].replace(\"0\",\" \").replace(\"1\",\"#\").replace(\"2\",\"#\")\n",
    "        answer.append(str1)    \n",
    "    return answer"
   ]
  },
  {
   "cell_type": "code",
   "execution_count": null,
   "metadata": {},
   "outputs": [],
   "source": [
    "## 다른 사람 풀이\n",
    "\n",
    "def solution(n, arr1, arr2):\n",
    "    answer = []\n",
    "    for i,j in zip(arr1,arr2):\n",
    "        a12 = str(bin(i|j)[2:])\n",
    "        a12=a12.rjust(n,'0')\n",
    "        a12=a12.replace('1','#')\n",
    "        a12=a12.replace('0',' ')\n",
    "        answer.append(a12)\n",
    "    return answer"
   ]
  }
 ],
 "metadata": {
  "kernelspec": {
   "display_name": "Python 3",
   "language": "python",
   "name": "python3"
  },
  "language_info": {
   "codemirror_mode": {
    "name": "ipython",
    "version": 3
   },
   "file_extension": ".py",
   "mimetype": "text/x-python",
   "name": "python",
   "nbconvert_exporter": "python",
   "pygments_lexer": "ipython3",
   "version": "3.7.6"
  }
 },
 "nbformat": 4,
 "nbformat_minor": 4
}
